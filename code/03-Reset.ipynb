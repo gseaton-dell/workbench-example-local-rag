{
 "cells": [
  {
   "cell_type": "markdown",
   "id": "f571665c-7ba5-48aa-a946-0b9e30d0c76a",
   "metadata": {},
   "source": [
    "# Reset Document Database\n",
    "\n",
    "**WARNING: RUNNING THIS NOTEBOOK WILL DELETE ALL INDEXED DOCUMENTS.**\n",
    "\n",
    "Run this notebook if you want to clear out your indexed documents and start over.\n",
    "\n",
    "After running this notebook, make adjustments to your dataset, upload in your documents again (via notebook 02), and restart the `chat` app in AI Workbench. "
   ]
  },
  {
   "cell_type": "code",
   "execution_count": 1,
   "id": "8d6a43da-0127-4b83-95c2-28776e097dac",
   "metadata": {},
   "outputs": [],
   "source": [
    "import os\n",
    "import shutil\n",
    "from milvus import default_server\n",
    "from pymilvus import connections, utility, Collection"
   ]
  },
  {
   "cell_type": "code",
   "execution_count": 2,
   "id": "ef06615d-c997-4ee1-a9eb-f9a98006400a",
   "metadata": {
    "scrolled": true
   },
   "outputs": [
    {
     "name": "stdout",
     "output_type": "stream",
     "text": [
      "Collection name: llamalection\n",
      "Fields:\n",
      "Name: id, Type: 21, Primary: True\n",
      "Name: embedding, Type: 101, Primary: False\n",
      "Number of records: 980\n"
     ]
    },
    {
     "data": {
      "text/plain": [
       "(insert count: 0, delete count: 980, upsert count: 0, timestamp: 448333088120897548, success count: 0, err count: 0)"
      ]
     },
     "execution_count": 2,
     "metadata": {},
     "output_type": "execute_result"
    }
   ],
   "source": [
    "# Get connection to DB\n",
    "client = connections.connect(host='localhost', port=19530)\n",
    "\n",
    "# Get collection\n",
    "collection = Collection(utility.list_collections()[0])\n",
    "\n",
    "print(f\"Collection name: {collection.name}\")\n",
    "#print(collection.primary_field)\n",
    "info = collection.schema\n",
    "# Print all fields\n",
    "print(f\"Fields:\")\n",
    "for field in info.fields:\n",
    "    print(f\"Name: {field.name}, Type: {field.dtype}, Primary: {field.is_primary}\")\n",
    "print(f\"Number of records: {collection.num_entities}\")\n",
    "    \n",
    "# Delete entities\n",
    "expr = \"id!=''\"\n",
    "collection.delete(expr)"
   ]
  },
  {
   "cell_type": "code",
   "execution_count": 3,
   "id": "30aa9e02-66e6-4c91-a625-a7fe1f8a1e69",
   "metadata": {
    "scrolled": true
   },
   "outputs": [
    {
     "name": "stdout",
     "output_type": "stream",
     "text": [
      "[]\n"
     ]
    }
   ],
   "source": [
    "# Query all entities\n",
    "result = collection.query(expr=\"id!=''\", output_fields=[\"id\"])\n",
    "\n",
    "# Extract all IDs \n",
    "id_array = [entity[\"id\"] for entity in result]\n",
    "\n",
    "# Ensure database is empty\n",
    "print(id_array)"
   ]
  },
  {
   "cell_type": "code",
   "execution_count": 4,
   "id": "e8c6120b-7969-4da7-a865-0fb657f37f1e",
   "metadata": {},
   "outputs": [],
   "source": [
    "if os.path.exists(\"../data/documents/.file_cache.json\"):\n",
    "    os.remove(\"../data/documents/.file_cache.json\")\n",
    "    \n",
    "if os.path.exists(\"../data/documents/.file_cache.lock\"):\n",
    "    os.remove(\"../data/documents/.file_cache.lock\")\n",
    "\n",
    "if os.path.exists(\"../data/documents/.ipynb_checkpoints\"):\n",
    "    shutil.rmtree(\"../data/documents/.ipynb_checkpoints\")\n"
   ]
  },
  {
   "cell_type": "markdown",
   "id": "da18a0ac-b462-4da9-a590-4ac53bdaff9b",
   "metadata": {},
   "source": [
    "### Now make adjustments to your dataset, upload in your documents again (via notebook 02), and restart the `chat` app in AI Workbench."
   ]
  },
  {
   "cell_type": "code",
   "execution_count": null,
   "id": "9f848959-24b8-40db-8ce0-753ce05422c2",
   "metadata": {},
   "outputs": [],
   "source": []
  }
 ],
 "metadata": {
  "kernelspec": {
   "display_name": "Python 3 (ipykernel)",
   "language": "python",
   "name": "python3"
  },
  "language_info": {
   "codemirror_mode": {
    "name": "ipython",
    "version": 3
   },
   "file_extension": ".py",
   "mimetype": "text/x-python",
   "name": "python",
   "nbconvert_exporter": "python",
   "pygments_lexer": "ipython3",
   "version": "3.9.18"
  }
 },
 "nbformat": 4,
 "nbformat_minor": 5
}
